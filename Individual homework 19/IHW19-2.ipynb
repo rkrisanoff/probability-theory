{
 "cells": [
  {
   "cell_type": "code",
   "execution_count": 8,
   "metadata": {},
   "outputs": [],
   "source": [
    "import numpy as np\n",
    "\n",
    "X = [50, 74, 98, 122, 146, 170]\n",
    "Y = [0.58, 1.08, 1.58, 2.08, 2.58, 3.08, 3.58, 4.08]\n",
    "n = 100\n",
    "table = np.array([\n",
    "    [3, 3, 4, 6, 0, 0, 0, 0],\n",
    "    [0, 5, 8, 9, 0, 0, 0, 0],\n",
    "    [0, 0, 0, 13, 8, 9, 0, 0],\n",
    "    [0, 0, 0, 0, 9, 2, 4, 0],\n",
    "    [0, 0, 0, 0, 0, 1, 3, 5],\n",
    "    [0, 0, 0, 0, 0, 0, 5, 3]\n",
    "], np.int32)\n",
    "\n",
    "\n",
    "m_x = [sum(i) for i in table]\n",
    "m_y = [0 for i in range(len(Y))]\n",
    "for i in range(len(table)):\n",
    "    for j in range(len(table[i])):\n",
    "        m_y[j] += table[i][j]\n"
   ]
  },
  {
   "cell_type": "code",
   "execution_count": 9,
   "metadata": {},
   "outputs": [
    {
     "name": "stdout",
     "output_type": "stream",
     "text": [
      "sample average y = 2.44\n",
      "sample average x = 98.72\n",
      "S_x = 34.86368258856721\n",
      "S_y = 0.8991578551538368\n",
      "S_x,y = 26.889696969696953\n",
      "r_x,y = 0.8577815610869483\n",
      "y = 0.022122764188725583x + (0.2560407192890102)\n"
     ]
    }
   ],
   "source": [
    "from math import sqrt\n",
    "\n",
    "sample_average_x = sum([m_x[i]*X[i] for i in range(len(m_x))])/n\n",
    "sample_average_y = sum([m_y[j]*Y[j] for j in range(len(m_y))])/n\n",
    "\n",
    "\n",
    "s_x = sqrt((1/(n-1))*(sum([m_x[i]*X[i]**2 for i in range(len(m_x))]\n",
    "                          )-(1/n)*sum([m_x[i]*X[i] for i in range(len(m_x))])**2))\n",
    "s_y = sqrt((1/(n-1))*(sum([m_y[j]*Y[j]**2 for j in range(len(m_y))]\n",
    "                          )-(1/n)*sum([m_y[j]*Y[j] for j in range(len(m_y))])**2))\n",
    "\n",
    "s_x_y = (1/(n-1))*(sum([sum([table[i][j]*X[i]*Y[j] for j in range(len(table[i]))]) for i in range(len(table))]\n",
    "                       )-(1/n)*sum([m_x[i]*X[i] for i in range(len(m_x))])*sum([m_y[j]*Y[j] for j in range(len(m_y))]))\n",
    "\n",
    "r_x_y = s_x_y/(s_x*s_y)\n",
    "\n",
    "print(\"sample average y = {}\".format(sample_average_y))\n",
    "print(\"sample average x = {}\".format(sample_average_x))\n",
    "print(\"S_x = {}\".format(s_x))\n",
    "print(\"S_y = {}\".format(s_y))\n",
    "print(\"S_x,y = {}\".format(s_x_y))\n",
    "print(\"r_x,y = {}\".format(r_x_y))\n",
    "\n",
    "\n",
    "def f(x):\n",
    "    return sample_average_y+r_x_y*s_y/s_x*(x-sample_average_x)\n",
    "\n",
    "\n",
    "print(\"y = {}x + ({})\".format(r_x_y*s_y/s_x,\n",
    "      sample_average_y-r_x_y*s_y/s_x*sample_average_x))\n"
   ]
  },
  {
   "cell_type": "code",
   "execution_count": 10,
   "metadata": {},
   "outputs": [
    {
     "data": {
      "image/png": "[encoded data removed]",
      "text/plain": [
       "<Figure size 432x288 with 1 Axes>"
      ]
     },
     "metadata": {
      "needs_background": "light"
     },
     "output_type": "display_data"
    }
   ],
   "source": [
    "# plotting\n",
    "import matplotlib.pyplot as plt\n",
    "x = []\n",
    "y = []\n",
    "weight = []\n",
    "for i in range(len(table)):\n",
    "    for j in range(len(table[i])):\n",
    "        x.append(X[i])\n",
    "        y.append(Y[j])\n",
    "        weight.append(table[i][j]*10)\n",
    "plt.scatter(x, y, weight)\n",
    "plt.plot([min(X), max(X)], [f(min(X)), f(max(X))])\n",
    "plt.xlabel(\"money\")\n",
    "plt.ylabel(\"km\")\n",
    "plt.show()\n"
   ]
  }
 ],
 "metadata": {
  "interpreter": {
   "hash": "9c6d2a321c6c53d7e9a2e50798c1be1431fc343cf9a41714eb212aeeedfab680"
  },
  "kernelspec": {
   "display_name": "Python 3.9.5 ('base')",
   "language": "python",
   "name": "python3"
  },
  "language_info": {
   "codemirror_mode": {
    "name": "ipython",
    "version": 3
   },
   "file_extension": ".py",
   "mimetype": "text/x-python",
   "name": "python",
   "nbconvert_exporter": "python",
   "pygments_lexer": "ipython3",
   "version": "3.9.5"
  },
  "orig_nbformat": 4
 },
 "nbformat": 4,
 "nbformat_minor": 2
}

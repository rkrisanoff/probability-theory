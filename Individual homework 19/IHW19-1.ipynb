{
 "cells": [
  {
   "cell_type": "code",
   "execution_count": 1,
   "metadata": {},
   "outputs": [],
   "source": [
    "# import and constants div\n",
    "from math import inf, log2, ceil, floor\n",
    "from prettytable import PrettyTable\n",
    "IHT19_1_EXAMPLE = [43.4, 43.5, 43.7, 43.8, 43.9, 43.9, 43.9, 44.0, 44.0, 44.1,\n",
    "           44.2, 44.2, 44.2, 44.3, 44.3, 44.3, 44.4, 44.5, 44.5, 44.5,\n",
    "           44.6, 44.6, 44.7, 44.7, 44.8, 44.8, 44.8, 44.9, 44.9, 44.9,\n",
    "           45.0, 45.0, 45.1, 45.2, 45.2, 45.2, 45.2, 45.2, 45.3, 45.3,\n",
    "           45.3, 45.4, 45.4, 45.4, 45.4, 45.4, 45.4, 45.5, 45.5, 45.6,\n",
    "           45.6, 45.6, 45.6, 45.6, 45.7, 45.7, 45.7, 45.7, 45.7, 45.7,\n",
    "           45.8, 45.8, 45.9, 45.9, 46.0, 46.0, 46.0, 46.0, 46.0, 46.0,\n",
    "           46.1, 46.1, 46.1, 46.1, 46.2, 46.2, 46.2, 46.2, 46.2, 46.4,\n",
    "           46.4, 46.4, 46.4, 46.4, 46.5, 46.5, 46.5, 46.6, 46.7, 46.7,\n",
    "           46.7, 46.7, 46.7, 46.8, 46.9, 47.0, 47.1, 47.1, 47.2, 47.7\n",
    "           ]\n",
    "IHT19_1_30V = [88, 72, 100, 60, 116, 74, 36, 143, 114, 70,\n",
    "               56, 75, 30, 76, 89, 53, 117, 90, 135, 103,\n",
    "               35, 128, 71, 86, 43, 76, 61, 113, 34, 83,\n",
    "               62, 84, 50, 69, 120, 91, 102, 47, 119, 99,\n",
    "               33, 76, 91, 37, 85, 17, 85, 63, 121, 74,\n",
    "               46, 85, 63, 104, 77, 92, 54, 78, 42, 105,\n",
    "               85, 79, 49, 80, 93, 32, 106, 81, 64, 79,\n",
    "               73, 19, 80, 65, 107, 123, 51, 94, 80, 108,\n",
    "               52, 83, 124, 81, 96, 82, 109, 20, 95, 68,\n",
    "               66, 41, 82, 98, 111, 67, 125, 97, 112, 58]\n",
    "\n",
    "EPSILON = 0.0000001\n",
    "FIRST = 0\n",
    "LAST = -1\n",
    "\n",
    "\n",
    "def round3(x):\n",
    "    return round(x, 3)\n"
   ]
  },
  {
   "cell_type": "code",
   "execution_count": 2,
   "metadata": {},
   "outputs": [],
   "source": [
    "# first calculatings\n",
    "\n",
    "selection = IHT19_1_EXAMPLE\n",
    "n = len(selection)\n",
    "\n",
    "variation_series = sorted(selection)\n",
    "\n",
    "discret_statictic_series = {}\n",
    "for i in variation_series:\n",
    "    if i in discret_statictic_series:\n",
    "        discret_statictic_series[i] += 1\n",
    "    else:\n",
    "        discret_statictic_series[i] = 1\n",
    "\n",
    "\n",
    "Expected_value = sum([value*(count/n)\n",
    "                     for value, count in discret_statictic_series.items()])\n",
    "\n",
    "Ranking = variation_series[LAST]-variation_series[FIRST]\n",
    "\n",
    "D = sum([count*(value-Expected_value)**2 for value,\n",
    "        count in discret_statictic_series.items()])/n\n",
    "σ = D ** (1/2)\n",
    "\n",
    "S = (n/(n-1)*D)**(1/2)\n"
   ]
  },
  {
   "cell_type": "code",
   "execution_count": 3,
   "metadata": {},
   "outputs": [],
   "source": [
    "m = ceil(1+log2(n))\n",
    "h = (max(variation_series)-min(variation_series))/m\n",
    "\n",
    "intervals = [round3(variation_series[FIRST])]\n",
    "while intervals[LAST]+h/2 < variation_series[LAST]:\n",
    "    intervals.append(round3(intervals[LAST]+h))\n",
    "    \n",
    "    \n",
    "frequencies = [FIRST]\n",
    "\n",
    "intervals_iter = iter(intervals)\n",
    "centre_of_the_gap = next(intervals_iter)\n",
    "for i in variation_series:\n",
    "    if abs(i-centre_of_the_gap) < h/2:\n",
    "        frequencies[LAST] += 1\n",
    "    else:\n",
    "        frequencies.append(1)\n",
    "        centre_of_the_gap = next(intervals_iter)\n",
    "\n",
    "intervals_weight_normalized = [i/n for i in frequencies]\n",
    "intervals_weight_normalized_based = [round3(sum(\n",
    "    intervals_weight_normalized[:i+1])) for i in range(len(intervals_weight_normalized))]\n",
    "\n",
    "interval_distribution = {}\n",
    "for index in range(len(intervals)):\n",
    "    interval = intervals[index]\n",
    "    frequency = frequencies[index]\n",
    "    interval_distribution[interval] = frequency\n"
   ]
  },
  {
   "cell_type": "code",
   "execution_count": 4,
   "metadata": {},
   "outputs": [
    {
     "name": "stdout",
     "output_type": "stream",
     "text": [
      "+-----------------+--------+-----+-------------+-------+----------+-----------+\n",
      "|    Intervals    |  x_i   | f_i | w_i = f_i/n | w_i/h |  (x)f_i  |  (x^2)f_i |\n",
      "+-----------------+--------+-----+-------------+-------+----------+-----------+\n",
      "| [43.131;43.669) |  43.4  |  2  |     0.02    | 0.037 |   86.8   |  3767.12  |\n",
      "| [43.669;44.207) | 43.938 |  11 |     0.11    | 0.205 | 483.318  | 21236.026 |\n",
      "| [44.207;44.745) | 44.476 |  11 |     0.11    | 0.205 | 489.236  |  21759.26 |\n",
      "| [44.745;45.283) | 45.014 |  14 |     0.14    |  0.26 | 630.196  | 28367.643 |\n",
      "| [45.283;45.821) | 45.552 |  24 |     0.24    | 0.447 | 1093.248 | 49799.633 |\n",
      "| [45.821;46.359) | 46.09  |  17 |     0.17    | 0.316 |  783.53  | 36112.898 |\n",
      "| [46.359;46.897) | 46.628 |  15 |     0.15    | 0.279 |  699.42  | 32612.556 |\n",
      "| [46.897;47.435) | 47.166 |  5  |     0.05    | 0.093 |  235.83  | 11123.158 |\n",
      "| [47.434;47.972) | 47.703 |  1  |     0.01    | 0.019 |  47.703  |  2275.576 |\n",
      "+-----------------+--------+-----+-------------+-------+----------+-----------+\n"
     ]
    }
   ],
   "source": [
    "calculation_table = PrettyTable([\"Intervals\",\"x_i\",\"f_i\",\"w_i = f_i/n\",\"w_i/h\",\"(x)f_i\",\"(x^2)f_i\"])\n",
    "value = 0\n",
    "for index in range(len(intervals)):\n",
    "    interval = intervals[index]\n",
    "    frequency = frequencies[index]\n",
    "    row = []\n",
    "    row.append(\"[{};{})\".format(round3(interval-h/2),round3(interval+h/2)))\n",
    "    row.append(interval)\n",
    "    row.append(frequency)\n",
    "    row.append(round3(frequency/n))\n",
    "    row.append(round3(frequency/n/h))\n",
    "    row.append(round3(interval*frequency))\n",
    "    row.append(round3(interval**2*frequency))\n",
    "    calculation_table.add_row(row)\n",
    "    \n",
    "print(calculation_table)"
   ]
  },
  {
   "cell_type": "code",
   "execution_count": 5,
   "metadata": {},
   "outputs": [
    {
     "data": {
      "image/png": "[encoded data removed]",
      "text/plain": [
       "<Figure size 432x288 with 1 Axes>"
      ]
     },
     "metadata": {
      "needs_background": "light"
     },
     "output_type": "display_data"
    },
    {
     "data": {
      "image/png": "[encoded data removed]",
      "text/plain": [
       "<Figure size 432x288 with 1 Axes>"
      ]
     },
     "metadata": {
      "needs_background": "light"
     },
     "output_type": "display_data"
    },
    {
     "data": {
      "image/png": "[encoded data removed]",
      "text/plain": [
       "<Figure size 432x288 with 1 Axes>"
      ]
     },
     "metadata": {
      "needs_background": "light"
     },
     "output_type": "display_data"
    },
    {
     "data": {
      "image/png": "[encoded data removed]",
      "text/plain": [
       "<Figure size 432x288 with 1 Axes>"
      ]
     },
     "metadata": {
      "needs_background": "light"
     },
     "output_type": "display_data"
    }
   ],
   "source": [
    "# plotting\n",
    "import matplotlib.pyplot as plt\n",
    "\n",
    "plt.plot(intervals, intervals_weight_normalized)\n",
    "plt.xlim(min(intervals)-h, max(intervals)+h)\n",
    "plt.ylabel('Frequencies')\n",
    "plt.xlabel('Variants')\n",
    "plt.title('Polygon of frequencies')\n",
    "plt.grid()\n",
    "plt.show()\n",
    "\n",
    "plt.plot(intervals, intervals_weight_normalized_based)\n",
    "plt.xlim(min(intervals)-h, max(intervals)+h)\n",
    "plt.ylabel('Frequencies')\n",
    "plt.xlabel('Variants')\n",
    "plt.title('frequencies distribution')\n",
    "plt.grid()\n",
    "plt.show()\n",
    "\n",
    "plt.bar(intervals, intervals_weight_normalized, width=h)\n",
    "plt.xlim(min(intervals)-h, max(intervals)+h)\n",
    "plt.ylabel('Frequencies')\n",
    "plt.xlabel('Variants')\n",
    "plt.title('Histogram of frequencies')\n",
    "plt.show()\n",
    "\n",
    "plt.bar(intervals, intervals_weight_normalized_based, width=h)\n",
    "plt.xlim(min(intervals)-h, max(intervals)+h)\n",
    "plt.ylabel('Distributions')\n",
    "plt.xlabel('Variants')\n",
    "plt.title('Empirical distribution function')\n",
    "plt.show()\n"
   ]
  },
  {
   "cell_type": "code",
   "execution_count": 6,
   "metadata": {},
   "outputs": [],
   "source": [
    "sample_average = sum([value*frequency for value,frequency in interval_distribution.items()])/n\n",
    "sample_dispersion = sum([(value**2)*frequency for value,frequency in interval_distribution.items()])/n-sample_average*sample_average\n",
    "standard_deviation = sample_dispersion**(1/2)\n",
    "fixed_dispertion = (n/(n-1))*sample_dispersion\n",
    "fixed_deviation = fixed_dispertion**(1/2)"
   ]
  },
  {
   "cell_type": "code",
   "execution_count": 7,
   "metadata": {},
   "outputs": [
    {
     "name": "stdout",
     "output_type": "stream",
     "text": [
      "+---+--------+--------+----------+-------------+----------------+------------------------+\n",
      "| i |  x_i   | x_i+1  | (x_i-ax) | (x_(i+1)-ax | z_i=(x_i-ax)/o | z_(i+1)=(x_(i+1)-ax)/o |\n",
      "+---+--------+--------+----------+-------------+----------------+------------------------+\n",
      "| 1 | 43.131 | 44.207 |   -inf   |    -1.286   |      -inf      |         -1.324         |\n",
      "| 2 | 44.207 | 44.745 |  -1.286  |    -0.748   |     -1.324     |         -0.77          |\n",
      "| 3 | 44.745 | 45.283 |  -0.748  |    -0.21    |     -0.77      |         -0.216         |\n",
      "| 4 | 45.283 | 45.821 |  -0.21   |    0.328    |     -0.216     |         0.338          |\n",
      "| 5 | 45.821 | 46.359 |  0.328   |    0.866    |     0.338      |         0.892          |\n",
      "| 6 | 46.359 | 46.897 |  0.866   |    1.404    |     0.892      |         1.446          |\n",
      "| 7 | 46.897 | 47.972 |  1.404   |     inf     |     1.446      |          inf           |\n",
      "+---+--------+--------+----------+-------------+----------------+------------------------+\n"
     ]
    }
   ],
   "source": [
    "#Looking for theoretic frequencies\n",
    "\n",
    "\n",
    "interval_distribution_list = [[(round3(value-h/2),round3(value+h/2)),frequency]for value,frequency in sorted(interval_distribution.items())]\n",
    "prepared_interval_distribution = []\n",
    "LEFT=0\n",
    "RIGHT=1\n",
    "INTERVAL = 0\n",
    "FREQUENCY = 1\n",
    "\n",
    "\n",
    "#uniting interval with small frequencies\n",
    "left_border = interval_distribution_list[FIRST][INTERVAL][LEFT]\n",
    "temp_frequency = 0\n",
    "for [interval,frequency] in interval_distribution_list:\n",
    "    if frequency+temp_frequency<5:\n",
    "        temp_frequency += frequency\n",
    "        continue\n",
    "    prepared_interval_distribution.append([(left_border,interval[RIGHT]),frequency+temp_frequency])\n",
    "    left_border = interval[RIGHT]\n",
    "    temp_frequency = 0\n",
    "\n",
    "if temp_frequency > 0:\n",
    "    prepared_interval_distribution[-1] = [(prepared_interval_distribution[-1][INTERVAL][LEFT],interval_distribution_list[-1][INTERVAL][RIGHT]),prepared_interval_distribution[-1][FREQUENCY]+temp_frequency]\n",
    "\n",
    "differences_from_sample_average = []\n",
    "for [interval,frequency] in prepared_interval_distribution:\n",
    "    differences_from_sample_average.append([round3(interval[LEFT]-sample_average),round3(interval[RIGHT]-sample_average)])\n",
    "differences_from_sample_average[FIRST][LEFT]=-inf\n",
    "differences_from_sample_average[LAST][RIGHT]=inf\n",
    "\n",
    "z_intervals = []\n",
    "for [left,right] in differences_from_sample_average:\n",
    "    z_intervals.append([round3(left/standard_deviation),round3(right/standard_deviation)])\n",
    "\n",
    "intermediate_table = PrettyTable([\"i\",\"x_i\",\"x_i+1\",\"(x_i-ax)\",\"(x_(i+1)-ax\",\"z_i=(x_i-ax)/o\",\"z_(i+1)=(x_(i+1)-ax)/o\"])\n",
    "for i in range(len(prepared_interval_distribution)):\n",
    "    row = []\n",
    "    row.append(i+1)\n",
    "    row.append(prepared_interval_distribution[i][INTERVAL][LEFT])\n",
    "    row.append(prepared_interval_distribution[i][INTERVAL][RIGHT])\n",
    "    row.append(differences_from_sample_average[i][LEFT])\n",
    "    row.append(differences_from_sample_average[i][RIGHT])\n",
    "    row.append(z_intervals[i][LEFT])\n",
    "    row.append(z_intervals[i][RIGHT])\n",
    "    intermediate_table.add_row(row)\n",
    "    \n",
    "    \n",
    "print(intermediate_table)\n",
    "\n",
    "\n",
    "        "
   ]
  },
  {
   "cell_type": "code",
   "execution_count": 8,
   "metadata": {},
   "outputs": [
    {
     "name": "stdout",
     "output_type": "stream",
     "text": [
      "+---+--------+---------+----------------------+----------------------+-----------------------+--------------------+\n",
      "| i |  z_i   | z_(i+1) |        Ф(z_i)        |      Ф(z_(i+1))      | P_i=Ф(z_(i+1))-Ф(z_i) |    n'_i=100P_i     |\n",
      "+---+--------+---------+----------------------+----------------------+-----------------------+--------------------+\n",
      "| 1 |  -inf  |  -1.324 |         -0.5         | -0.40724847764324723 |   9.275152235675277   | 927.5152235675276  |\n",
      "| 2 | -1.324 |  -0.77  | -0.40724847764324723 | -0.2793500536573504  |   12.789842398589684  | 1278.9842398589685 |\n",
      "| 3 | -0.77  |  -0.216 | -0.2793500536573504  | -0.08550612621755599 |   19.38439274397944   | 1938.439274397944  |\n",
      "| 4 | -0.216 |  0.338  | -0.08550612621755599 | 0.13231840611135004  |   21.782453232890603  | 2178.2453232890603 |\n",
      "| 5 | 0.338  |  0.892  | 0.13231840611135004  |  0.313803533802576   |   18.148512769122593  | 1814.8512769122594 |\n",
      "| 6 | 0.892  |  1.446  |  0.313803533802576   | 0.42591139909223763  |   11.210786528966166  | 1121.0786528966166 |\n",
      "| 7 | 1.446  |   inf   | 0.42591139909223763  |         0.5          |   7.408860090776237   | 740.8860090776237  |\n",
      "+---+--------+---------+----------------------+----------------------+-----------------------+--------------------+\n"
     ]
    }
   ],
   "source": [
    "\n",
    "from scipy.stats import norm\n",
    "from math import inf\n",
    "\n",
    "def Laplace(x):\n",
    "    return norm.cdf(x)-0.5\n",
    "\n",
    "calculation_table = PrettyTable([\"i\",\"z_i\",\"z_(i+1)\",\"Ф(z_i)\",\"Ф(z_(i+1))\",\"P_i=Ф(z_(i+1))-Ф(z_i)\",\"n'_i=100P_i\"])\n",
    "\n",
    "\n",
    "theoretical_propably_list = [(Laplace(z_intervals[i][RIGHT])-Laplace(z_intervals[i][LEFT]))*n for i in range(len(z_intervals))]\n",
    "for i in range(len(z_intervals)):\n",
    "    row = []\n",
    "    row.append(i+1)\n",
    "    row.append(z_intervals[i][LEFT])\n",
    "    row.append(z_intervals[i][RIGHT])\n",
    "    row.append(Laplace(z_intervals[i][LEFT]))\n",
    "    row.append(Laplace(z_intervals[i][RIGHT]))\n",
    "    row.append(theoretical_propably_list[i])\n",
    "    row.append(theoretical_propably_list[i]*100)\n",
    "    calculation_table.add_row(row)\n",
    "    \n",
    "print(calculation_table)"
   ]
  },
  {
   "cell_type": "code",
   "execution_count": 9,
   "metadata": {},
   "outputs": [
    {
     "name": "stdout",
     "output_type": "stream",
     "text": [
      "100\n",
      "100.0\n",
      "4.999846859959803\n",
      "+---+-----+--------------------+---------------------+--------------------+---------------------+---------+--------------------+\n",
      "| i | n_i |        n'_i        |       n_i-n'_i      |    (n_i-n'_i)^2    |  ((n_i-n'_i)^2)/n_i | (n_i)^2 |   ((n_i)^2)/n'_i   |\n",
      "+---+-----+--------------------+---------------------+--------------------+---------------------+---------+--------------------+\n",
      "| 1 |  13 | 9.275152235675277  |  3.724847764324723  | 13.874490867394888 |  1.0672685282611452 |   169   | 18.220725191978044 |\n",
      "| 2 |  11 | 12.789842398589684 |  -1.789842398589684 | 3.2035358117892736 | 0.29123052834447943 |   121   | 9.460632604303434  |\n",
      "| 3 |  14 | 19.38439274397944  |  -5.38439274397944  | 28.991685221418443 |  2.0708346586727457 |   196   | 10.111227242900103 |\n",
      "| 4 |  24 | 21.782453232890603 |  2.217546767109397  | 4.917513664317338  | 0.20489640267988907 |   576   | 26.44330249864895  |\n",
      "| 5 |  17 | 18.148512769122593 | -1.1485127691225934 | 1.3190815808376475 | 0.07759303416692044 |   289   | 15.924169857691979 |\n",
      "| 6 |  15 | 11.210786528966166 |  3.7892134710338343 | 14.35813872906428  |  0.9572092486042852 |   225   | 20.069956681330993 |\n",
      "| 7 |  6  | 7.408860090776237  |  -1.408860090776237 | 1.9848867553820266 | 0.33081445923033775 |    36   | 4.859047081320742  |\n",
      "+---+-----+--------------------+---------------------+--------------------+---------------------+---------+--------------------+\n"
     ]
    }
   ],
   "source": [
    "frequency_table = PrettyTable([\"i\",\"n_i\",\"n'_i\",\"n_i-n'_i\",\"(n_i-n'_i)^2\",\"((n_i-n'_i)^2)/n_i\",\"(n_i)^2\",\"((n_i)^2)/n'_i\"])\n",
    "\n",
    "Sn_i = 0\n",
    "Sn__i = 0\n",
    "Hi_empiric = 0\n",
    "\n",
    "for i in range(len(z_intervals)):\n",
    "    row = []\n",
    "    row.append(i+1)\n",
    "    row.append(prepared_interval_distribution[i][FREQUENCY])\n",
    "    Sn_i += prepared_interval_distribution[i][FREQUENCY]\n",
    "    row.append(theoretical_propably_list[i])\n",
    "    Sn__i += theoretical_propably_list[i]\n",
    "    row.append(prepared_interval_distribution[i][FREQUENCY]-theoretical_propably_list[i])\n",
    "    row.append((prepared_interval_distribution[i][FREQUENCY]-theoretical_propably_list[i])**2)\n",
    "    row.append(((prepared_interval_distribution[i][FREQUENCY]-theoretical_propably_list[i])**2)/prepared_interval_distribution[i][FREQUENCY])\n",
    "    Hi_empiric += ((prepared_interval_distribution[i][FREQUENCY]-theoretical_propably_list[i])**2)/prepared_interval_distribution[i][FREQUENCY]\n",
    "    row.append(prepared_interval_distribution[i][FREQUENCY]**2)\n",
    "    row.append((prepared_interval_distribution[i][FREQUENCY]**2)/theoretical_propably_list[i])\n",
    "    frequency_table.add_row(row)\n",
    "    \n",
    "print(Sn_i)\n",
    "print(Sn__i)\n",
    "print(Hi_empiric)\n",
    "print(frequency_table)"
   ]
  },
  {
   "cell_type": "code",
   "execution_count": 10,
   "metadata": {},
   "outputs": [
    {
     "name": "stdout",
     "output_type": "stream",
     "text": [
      "So 5.0 < 11.1 then hypothesis about normal distribution is right\n"
     ]
    }
   ],
   "source": [
    "k = len(theoretical_propably_list) - 2 - 1\n",
    "\n",
    "Hi_theoretic = 11.1\n",
    "\n",
    "\n",
    "print(\"So {} < {} then hypothesis about normal distribution is right\".format(round3(Hi_empiric),Hi_theoretic))"
   ]
  },
  {
   "cell_type": "code",
   "execution_count": 11,
   "metadata": {},
   "outputs": [
    {
     "name": "stdout",
     "output_type": "stream",
     "text": [
      "confidence interval a is [ 45.28493465884471 ; 45.7006853411553 ]\n",
      "confidence interval deviation is [ 0.8363810674651879 ; 1.1155000701431854 ]\n"
     ]
    }
   ],
   "source": [
    "t_y = 2.13\n",
    "\n",
    "delta = fixed_deviation/(n**(1/2))*t_y\n",
    "q = 0.143\n",
    "\n",
    "print(\"confidence interval a is [ {} ; {} ]\".format(sample_average-delta,sample_average+delta))\n",
    "print(\"confidence interval deviation is [ {} ; {} ]\".format(fixed_deviation*(1-q),fixed_deviation*(1+q)))"
   ]
  }
 ],
 "metadata": {
  "interpreter": {
   "hash": "9c6d2a321c6c53d7e9a2e50798c1be1431fc343cf9a41714eb212aeeedfab680"
  },
  "kernelspec": {
   "display_name": "Python 3.9.5 ('base')",
   "language": "python",
   "name": "python3"
  },
  "language_info": {
   "codemirror_mode": {
    "name": "ipython",
    "version": 3
   },
   "file_extension": ".py",
   "mimetype": "text/x-python",
   "name": "python",
   "nbconvert_exporter": "python",
   "pygments_lexer": "ipython3",
   "version": "3.9.5"
  },
  "orig_nbformat": 4
 },
 "nbformat": 4,
 "nbformat_minor": 2
}
